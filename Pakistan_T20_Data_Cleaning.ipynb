{
 "cells": [
  {
   "cell_type": "markdown",
   "id": "5895f43f-2340-4635-a1db-1391570e12d0",
   "metadata": {},
   "source": [
    "# Import necessary packages"
   ]
  },
  {
   "cell_type": "code",
   "execution_count": 84,
   "id": "c321548e-1d8a-4147-be21-09da650fcbcd",
   "metadata": {},
   "outputs": [],
   "source": [
    "import pandas as pd\n",
    "import matplotlib.pyplot as plt\n",
    "import seaborn as sns\n",
    "import numpy as np"
   ]
  },
  {
   "cell_type": "markdown",
   "id": "c3f8786d-b4c6-4811-8847-646fd561abca",
   "metadata": {},
   "source": [
    "# Reducing Size"
   ]
  },
  {
   "cell_type": "code",
   "execution_count": 8,
   "id": "5d4037a9-91d1-49f9-ba33-465116800b4c",
   "metadata": {},
   "outputs": [],
   "source": [
    "def Cleaning_Data(rawdata):\n",
    "    rawdata['Over'] = rawdata['Over'].astype('int16')\n",
    "    rawdata['Runs_Batter'] = rawdata['Runs_Batter'].astype('int16')\n",
    "    rawdata['Runs_Extras'] = rawdata['Runs_Extras'].astype('int16')\n",
    "    rawdata['Runs_Total'] = rawdata['Runs_Total'].astype('int16')\n",
    "    rawdata['Wickets'] = rawdata['Wickets'].astype('int16')\n",
    "    rawdata['Team'] = rawdata['Team'].astype('category')\n",
    "    rawdata['Batter'] = rawdata['Batter'].astype('category')\n",
    "    rawdata['Bowler'] = rawdata['Bowler'].astype('category')\n",
    "    rawdata['Non_Striker'] = rawdata['Non_Striker'].astype('category')\n",
    "    rawdata['fielder_name'] = rawdata['fielder_name'].astype('category')\n",
    "    rawdata['kind'] = rawdata['kind'].astype('category')\n",
    "    rawdata['player_out'] = rawdata['player_out'].astype('category')\n",
    "    rawdata['match_type_number'] = pd.to_numeric(rawdata['match_type_number'], errors='coerce')"
   ]
  },
  {
   "cell_type": "code",
   "execution_count": 353,
   "id": "10a2ffcb-7f98-484c-a174-15c78c0ec943",
   "metadata": {},
   "outputs": [],
   "source": [
    "def reduce_match_information(rawdata):\n",
    "    rawdata['winner'] = rawdata['winner'].astype('category')\n",
    "    rawdata['win_by'] = rawdata['win_by'].astype('category')\n",
    "    rawdata['toss_decision'] = rawdata['toss_decision'].astype('category')\n",
    "    rawdata['dates'] = pd.to_datetime(rawdata['dates'])"
   ]
  },
  {
   "cell_type": "markdown",
   "id": "3869f451-ba32-4ccf-808c-255e270de54c",
   "metadata": {},
   "source": [
    "# Data Cleaning Functions"
   ]
  },
  {
   "cell_type": "code",
   "execution_count": 347,
   "id": "f5193fa1-9329-4573-bcef-c587343b8df5",
   "metadata": {},
   "outputs": [],
   "source": [
    "def cleaning_innings_dataset(rawdata):\n",
    "    rawdata['fielder_name'] = rawdata['fielder_name'].fillna('no')\n",
    "    rawdata['kind'] = rawdata['kind'].fillna('Not Out')\n",
    "    rawdata['player_out'] = rawdata['player_out'].fillna('Not Out')\n",
    "\n",
    "def filling_match_info_na(rawdata):\n",
    "    df['city'] = df['city'].fillna('no result')\n",
    "    df['event'] = df['event'].fillna('no result')\n",
    "    df['wickets/runs'] = df['wickets/runs'].fillna('no result')\n",
    "    df['win_by'] = df['win_by'].fillna('no result')\n",
    "    df['player_of_match'] = df['player_of_match'].fillna('no result')"
   ]
  },
  {
   "cell_type": "code",
   "execution_count": 316,
   "id": "c22c8517-39bf-4ff1-9846-7a9d5895fb16",
   "metadata": {},
   "outputs": [],
   "source": [
    "def correct_POM(column):\n",
    "    if not isinstance(column,float):\n",
    "        return column.strip(\"['']\")\n",
    "    else:\n",
    "        return column"
   ]
  },
  {
   "cell_type": "code",
   "execution_count": 320,
   "id": "934f754d-0379-4081-aa26-df965f889eac",
   "metadata": {},
   "outputs": [],
   "source": [
    "def correct_winby(column):\n",
    "    if column != \"no result\":\n",
    "        return column.strip('{}').split(\"'\")[1]"
   ]
  },
  {
   "cell_type": "code",
   "execution_count": 318,
   "id": "d8dba45a-4fb1-4cc5-a6e6-ea9464976f5b",
   "metadata": {},
   "outputs": [],
   "source": [
    "def correct_wickets_runs(column):\n",
    "    if column != \"no result\":\n",
    "        return column.strip('{}').split(\"'\")[2][1:].strip()"
   ]
  },
  {
   "cell_type": "markdown",
   "id": "7892863d-9ff7-4051-a8ee-8647999fa4a2",
   "metadata": {},
   "source": [
    "# Pakistan T20 innings "
   ]
  },
  {
   "cell_type": "code",
   "execution_count": 40,
   "id": "18158ae7-7f34-4140-82f8-81faf74ebdaf",
   "metadata": {},
   "outputs": [],
   "source": [
    "pakistan_T20_matches = pd.read_csv('./matches_info_innings_data/T20_Pakistan_matches_Dataset.csv')"
   ]
  },
  {
   "cell_type": "code",
   "execution_count": 12,
   "id": "1433ad69-41aa-4377-852a-4dbe3fd72bb3",
   "metadata": {},
   "outputs": [],
   "source": [
    "Cleaning_Data(pakistan_T20_matches)"
   ]
  },
  {
   "cell_type": "code",
   "execution_count": 14,
   "id": "eb1e046a-7b2f-4937-875a-587600fad865",
   "metadata": {},
   "outputs": [
    {
     "name": "stdout",
     "output_type": "stream",
     "text": [
      "<class 'pandas.core.frame.DataFrame'>\n",
      "RangeIndex: 56234 entries, 0 to 56233\n",
      "Data columns (total 13 columns):\n",
      " #   Column             Non-Null Count  Dtype   \n",
      "---  ------             --------------  -----   \n",
      " 0   Team               56234 non-null  category\n",
      " 1   Over               56234 non-null  int16   \n",
      " 2   Batter             56234 non-null  category\n",
      " 3   Bowler             56234 non-null  category\n",
      " 4   Non_Striker        56234 non-null  category\n",
      " 5   Runs_Batter        56234 non-null  int16   \n",
      " 6   Runs_Extras        56234 non-null  int16   \n",
      " 7   Runs_Total         56234 non-null  int16   \n",
      " 8   Wickets            56234 non-null  int16   \n",
      " 9   fielder_name       56234 non-null  category\n",
      " 10  kind               56234 non-null  category\n",
      " 11  player_out         56234 non-null  category\n",
      " 12  match_type_number  56234 non-null  int64   \n",
      "dtypes: category(7), int16(5), int64(1)\n",
      "memory usage: 1.7 MB\n"
     ]
    }
   ],
   "source": [
    "pakistan_T20_matches.info()"
   ]
  },
  {
   "cell_type": "code",
   "execution_count": 42,
   "id": "cb55cb4b-3405-4304-b49c-af2b3828dceb",
   "metadata": {},
   "outputs": [
    {
     "data": {
      "text/html": [
       "<div>\n",
       "<style scoped>\n",
       "    .dataframe tbody tr th:only-of-type {\n",
       "        vertical-align: middle;\n",
       "    }\n",
       "\n",
       "    .dataframe tbody tr th {\n",
       "        vertical-align: top;\n",
       "    }\n",
       "\n",
       "    .dataframe thead th {\n",
       "        text-align: right;\n",
       "    }\n",
       "</style>\n",
       "<table border=\"1\" class=\"dataframe\">\n",
       "  <thead>\n",
       "    <tr style=\"text-align: right;\">\n",
       "      <th></th>\n",
       "      <th>Team</th>\n",
       "      <th>Over</th>\n",
       "      <th>Batter</th>\n",
       "      <th>Bowler</th>\n",
       "      <th>Non_Striker</th>\n",
       "      <th>Runs_Batter</th>\n",
       "      <th>Runs_Extras</th>\n",
       "      <th>Runs_Total</th>\n",
       "      <th>Wickets</th>\n",
       "      <th>fielder_name</th>\n",
       "      <th>kind</th>\n",
       "      <th>player_out</th>\n",
       "      <th>match_type_number</th>\n",
       "    </tr>\n",
       "  </thead>\n",
       "  <tbody>\n",
       "    <tr>\n",
       "      <th>0</th>\n",
       "      <td>Pakistan</td>\n",
       "      <td>0</td>\n",
       "      <td>Babar Azam</td>\n",
       "      <td>MA Starc</td>\n",
       "      <td>Fakhar Zaman</td>\n",
       "      <td>0</td>\n",
       "      <td>0</td>\n",
       "      <td>0</td>\n",
       "      <td>0</td>\n",
       "      <td>no</td>\n",
       "      <td>Not Out</td>\n",
       "      <td>Not Out</td>\n",
       "      <td>1002</td>\n",
       "    </tr>\n",
       "    <tr>\n",
       "      <th>1</th>\n",
       "      <td>Pakistan</td>\n",
       "      <td>0</td>\n",
       "      <td>Babar Azam</td>\n",
       "      <td>MA Starc</td>\n",
       "      <td>Fakhar Zaman</td>\n",
       "      <td>1</td>\n",
       "      <td>0</td>\n",
       "      <td>1</td>\n",
       "      <td>0</td>\n",
       "      <td>no</td>\n",
       "      <td>Not Out</td>\n",
       "      <td>Not Out</td>\n",
       "      <td>1002</td>\n",
       "    </tr>\n",
       "    <tr>\n",
       "      <th>2</th>\n",
       "      <td>Pakistan</td>\n",
       "      <td>0</td>\n",
       "      <td>Fakhar Zaman</td>\n",
       "      <td>MA Starc</td>\n",
       "      <td>Babar Azam</td>\n",
       "      <td>0</td>\n",
       "      <td>0</td>\n",
       "      <td>0</td>\n",
       "      <td>0</td>\n",
       "      <td>no</td>\n",
       "      <td>Not Out</td>\n",
       "      <td>Not Out</td>\n",
       "      <td>1002</td>\n",
       "    </tr>\n",
       "    <tr>\n",
       "      <th>3</th>\n",
       "      <td>Pakistan</td>\n",
       "      <td>0</td>\n",
       "      <td>Fakhar Zaman</td>\n",
       "      <td>MA Starc</td>\n",
       "      <td>Babar Azam</td>\n",
       "      <td>0</td>\n",
       "      <td>0</td>\n",
       "      <td>0</td>\n",
       "      <td>0</td>\n",
       "      <td>no</td>\n",
       "      <td>Not Out</td>\n",
       "      <td>Not Out</td>\n",
       "      <td>1002</td>\n",
       "    </tr>\n",
       "    <tr>\n",
       "      <th>4</th>\n",
       "      <td>Pakistan</td>\n",
       "      <td>0</td>\n",
       "      <td>Fakhar Zaman</td>\n",
       "      <td>MA Starc</td>\n",
       "      <td>Babar Azam</td>\n",
       "      <td>2</td>\n",
       "      <td>0</td>\n",
       "      <td>2</td>\n",
       "      <td>0</td>\n",
       "      <td>no</td>\n",
       "      <td>Not Out</td>\n",
       "      <td>Not Out</td>\n",
       "      <td>1002</td>\n",
       "    </tr>\n",
       "  </tbody>\n",
       "</table>\n",
       "</div>"
      ],
      "text/plain": [
       "       Team  Over        Batter    Bowler   Non_Striker  Runs_Batter  \\\n",
       "0  Pakistan     0    Babar Azam  MA Starc  Fakhar Zaman            0   \n",
       "1  Pakistan     0    Babar Azam  MA Starc  Fakhar Zaman            1   \n",
       "2  Pakistan     0  Fakhar Zaman  MA Starc    Babar Azam            0   \n",
       "3  Pakistan     0  Fakhar Zaman  MA Starc    Babar Azam            0   \n",
       "4  Pakistan     0  Fakhar Zaman  MA Starc    Babar Azam            2   \n",
       "\n",
       "   Runs_Extras  Runs_Total  Wickets fielder_name     kind player_out  \\\n",
       "0            0           0        0           no  Not Out    Not Out   \n",
       "1            0           1        0           no  Not Out    Not Out   \n",
       "2            0           0        0           no  Not Out    Not Out   \n",
       "3            0           0        0           no  Not Out    Not Out   \n",
       "4            0           2        0           no  Not Out    Not Out   \n",
       "\n",
       "   match_type_number  \n",
       "0               1002  \n",
       "1               1002  \n",
       "2               1002  \n",
       "3               1002  \n",
       "4               1002  "
      ]
     },
     "execution_count": 42,
     "metadata": {},
     "output_type": "execute_result"
    }
   ],
   "source": [
    "pakistan_T20_matches.head()"
   ]
  },
  {
   "cell_type": "code",
   "execution_count": 38,
   "id": "05aeff06-5e34-424e-9e13-39080f8d966f",
   "metadata": {},
   "outputs": [],
   "source": [
    "pakistan_T20_matches.to_csv('./matches_info_innings_data/T20_Pakistan_matches_Dataset.csv',index = False)"
   ]
  },
  {
   "cell_type": "markdown",
   "id": "be7cad90-933f-45be-899d-f750fa1769c6",
   "metadata": {},
   "source": [
    "# Matches_info"
   ]
  },
  {
   "cell_type": "code",
   "execution_count": 359,
   "id": "f40a45bb-49fc-4680-bbb6-97b45e00dfa2",
   "metadata": {},
   "outputs": [],
   "source": [
    "df = pd.read_csv('./matches_info_innings_data/matches_information.csv')\n",
    "df = df.drop(columns={'stage','match_type','team_type'},axis=1)\n",
    "df['player_of_match'] = df['player_of_match'].apply(correct_POM)\n",
    "df = df.rename(columns={'winner_by':'win_by'})\n",
    "df['wickets/runs'] = df['win_by'].apply(correct_win_by)\n",
    "df['win_by'] = df['win_by'].apply(correct_winby)\n",
    "filling_match_info_na(df)\n",
    "reduce_match_information(df)"
   ]
  },
  {
   "cell_type": "code",
   "execution_count": null,
   "id": "f4cd5da2-58e6-4146-b2c0-2bcdfacb00c7",
   "metadata": {},
   "outputs": [],
   "source": [
    "df.info()"
   ]
  },
  {
   "cell_type": "code",
   "execution_count": null,
   "id": "47ad797b-f9c4-4921-8a4d-281f77c07ff9",
   "metadata": {},
   "outputs": [],
   "source": [
    "# to csv converstion\n",
    "df.to_csv('./Pakistan_T20_InternationTeam_matches_info.csv',index = False)"
   ]
  },
  {
   "cell_type": "markdown",
   "id": "963dfa9d-6fac-4d94-b616-1c0ab89ce42e",
   "metadata": {},
   "source": [
    "# Players info"
   ]
  },
  {
   "cell_type": "code",
   "execution_count": 367,
   "id": "7efefb76-cc36-46e8-9682-5cc36f360b49",
   "metadata": {},
   "outputs": [
    {
     "data": {
      "text/html": [
       "<div>\n",
       "<style scoped>\n",
       "    .dataframe tbody tr th:only-of-type {\n",
       "        vertical-align: middle;\n",
       "    }\n",
       "\n",
       "    .dataframe tbody tr th {\n",
       "        vertical-align: top;\n",
       "    }\n",
       "\n",
       "    .dataframe thead th {\n",
       "        text-align: right;\n",
       "    }\n",
       "</style>\n",
       "<table border=\"1\" class=\"dataframe\">\n",
       "  <thead>\n",
       "    <tr style=\"text-align: right;\">\n",
       "      <th></th>\n",
       "      <th>name</th>\n",
       "      <th>team</th>\n",
       "      <th>match_type_number</th>\n",
       "      <th>match_type</th>\n",
       "      <th>venue</th>\n",
       "    </tr>\n",
       "  </thead>\n",
       "  <tbody>\n",
       "    <tr>\n",
       "      <th>0</th>\n",
       "      <td>Sharjeel Khan</td>\n",
       "      <td>Pakistan</td>\n",
       "      <td>568</td>\n",
       "      <td>T20</td>\n",
       "      <td>Dubai International Cricket Stadium</td>\n",
       "    </tr>\n",
       "    <tr>\n",
       "      <th>1</th>\n",
       "      <td>Khalid Latif</td>\n",
       "      <td>Pakistan</td>\n",
       "      <td>568</td>\n",
       "      <td>T20</td>\n",
       "      <td>Dubai International Cricket Stadium</td>\n",
       "    </tr>\n",
       "    <tr>\n",
       "      <th>2</th>\n",
       "      <td>Babar Azam</td>\n",
       "      <td>Pakistan</td>\n",
       "      <td>568</td>\n",
       "      <td>T20</td>\n",
       "      <td>Dubai International Cricket Stadium</td>\n",
       "    </tr>\n",
       "    <tr>\n",
       "      <th>3</th>\n",
       "      <td>Shoaib Malik</td>\n",
       "      <td>Pakistan</td>\n",
       "      <td>568</td>\n",
       "      <td>T20</td>\n",
       "      <td>Dubai International Cricket Stadium</td>\n",
       "    </tr>\n",
       "    <tr>\n",
       "      <th>4</th>\n",
       "      <td>Umar Akmal</td>\n",
       "      <td>Pakistan</td>\n",
       "      <td>568</td>\n",
       "      <td>T20</td>\n",
       "      <td>Dubai International Cricket Stadium</td>\n",
       "    </tr>\n",
       "  </tbody>\n",
       "</table>\n",
       "</div>"
      ],
      "text/plain": [
       "            name      team  match_type_number match_type  \\\n",
       "0  Sharjeel Khan  Pakistan                568        T20   \n",
       "1   Khalid Latif  Pakistan                568        T20   \n",
       "2     Babar Azam  Pakistan                568        T20   \n",
       "3   Shoaib Malik  Pakistan                568        T20   \n",
       "4     Umar Akmal  Pakistan                568        T20   \n",
       "\n",
       "                                 venue  \n",
       "0  Dubai International Cricket Stadium  \n",
       "1  Dubai International Cricket Stadium  \n",
       "2  Dubai International Cricket Stadium  \n",
       "3  Dubai International Cricket Stadium  \n",
       "4  Dubai International Cricket Stadium  "
      ]
     },
     "execution_count": 367,
     "metadata": {},
     "output_type": "execute_result"
    }
   ],
   "source": [
    "players = pd.read_csv('./matches_info_innings_data/player_information.csv')\n",
    "players.head()"
   ]
  },
  {
   "cell_type": "code",
   "execution_count": 369,
   "id": "c4b86437-394d-41c0-be70-416c94fcb8e0",
   "metadata": {},
   "outputs": [
    {
     "name": "stdout",
     "output_type": "stream",
     "text": [
      "<class 'pandas.core.frame.DataFrame'>\n",
      "RangeIndex: 5347 entries, 0 to 5346\n",
      "Data columns (total 5 columns):\n",
      " #   Column             Non-Null Count  Dtype \n",
      "---  ------             --------------  ----- \n",
      " 0   name               5347 non-null   object\n",
      " 1   team               5347 non-null   object\n",
      " 2   match_type_number  5347 non-null   int64 \n",
      " 3   match_type         5347 non-null   object\n",
      " 4   venue              5347 non-null   object\n",
      "dtypes: int64(1), object(4)\n",
      "memory usage: 209.0+ KB\n"
     ]
    }
   ],
   "source": [
    "players.info()"
   ]
  },
  {
   "cell_type": "code",
   "execution_count": 373,
   "id": "5246ff83-0bde-49ca-a58a-790a94b68840",
   "metadata": {},
   "outputs": [],
   "source": [
    "# remove the T20 columns as we are analyzing T20 data\n",
    "players = players.drop(columns={'match_type'})"
   ]
  },
  {
   "cell_type": "code",
   "execution_count": 379,
   "id": "931e62cd-c020-44d4-ade6-5202f9b88c6f",
   "metadata": {},
   "outputs": [],
   "source": [
    "players.to_csv('./T20_Players_info.csv',index = False )"
   ]
  },
  {
   "cell_type": "code",
   "execution_count": null,
   "id": "d1c901a2-6167-459d-8052-99b2df09ebd3",
   "metadata": {},
   "outputs": [],
   "source": []
  }
 ],
 "metadata": {
  "kernelspec": {
   "display_name": "Python 3 (ipykernel)",
   "language": "python",
   "name": "python3"
  },
  "language_info": {
   "codemirror_mode": {
    "name": "ipython",
    "version": 3
   },
   "file_extension": ".py",
   "mimetype": "text/x-python",
   "name": "python",
   "nbconvert_exporter": "python",
   "pygments_lexer": "ipython3",
   "version": "3.12.7"
  }
 },
 "nbformat": 4,
 "nbformat_minor": 5
}
