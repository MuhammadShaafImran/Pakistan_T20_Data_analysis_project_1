{
 "cells": [
  {
   "cell_type": "code",
   "execution_count": 2,
   "id": "328c057d-b5bb-4af7-bae2-9bf223d3488c",
   "metadata": {},
   "outputs": [],
   "source": [
    "import pandas as pd\n",
    "import json\n",
    "import os"
   ]
  },
  {
   "cell_type": "code",
   "execution_count": 3,
   "id": "e86513c1-939d-45bc-9062-9e5df629f9e7",
   "metadata": {},
   "outputs": [],
   "source": [
    "folder_path = r\"D:\\Shaaf Projects\\Data sets\\pakistan_male_json\""
   ]
  },
  {
   "cell_type": "markdown",
   "id": "0af3f384-7cc4-4482-8839-79748e8ba49e",
   "metadata": {},
   "source": [
    "# Extracting T20 matches"
   ]
  },
  {
   "cell_type": "code",
   "execution_count": 5,
   "id": "7fdc32e8-f0dc-4377-8b7a-393df9dcf5ae",
   "metadata": {},
   "outputs": [],
   "source": [
    "T20_FILES = []\n",
    "for file_name in os.listdir(folder_path):\n",
    "    if file_name.endswith('.json'):\n",
    "        file_path = os.path.join(folder_path, file_name)\n",
    "        try:\n",
    "            with open(file_path, 'r') as json_file:\n",
    "                data = json.load(json_file)\n",
    "            if data.get('info', {}).get('match_type') == 'T20':\n",
    "                T20_FILES.append(file_name)\n",
    "        except (json.JSONDecodeError, FileNotFoundError, KeyError) as e:\n",
    "            print(f\"Error processing {file_name}: {e}\")\n"
   ]
  },
  {
   "cell_type": "markdown",
   "id": "7ade9062-b7ab-41e7-ac87-975b841a0d51",
   "metadata": {},
   "source": [
    "# Initializing DataFrames"
   ]
  },
  {
   "cell_type": "code",
   "execution_count": 7,
   "id": "437f8df8-60b5-494b-a847-47f35005ebee",
   "metadata": {},
   "outputs": [],
   "source": [
    "match_information={ \n",
    "'city':[],\n",
    "'event':[],\n",
    "'stage':[],\n",
    "'dates':[],\n",
    "'match_type':[],\n",
    "'match_type_number':[],\n",
    "'player_of_match':[],\n",
    "'winner':[],\n",
    "'winner_by':[],\n",
    "'overs':[],\n",
    "'season':[],\n",
    "'team_type':[],\n",
    "'team1':[],\n",
    "'team2':[],\n",
    "'toss_winner':[],\n",
    "'toss_decision':[],\n",
    "'venue':[]\n",
    "}\n",
    "\n",
    "players_infomation={\n",
    "    'name':[],\n",
    "    'team':[],\n",
    "    'match_type_number':[],\n",
    "    'match_type':[],\n",
    "    'venue':[]\n",
    "}"
   ]
  },
  {
   "cell_type": "markdown",
   "id": "c17e42e1-811e-492e-a530-6625532433fe",
   "metadata": {},
   "source": [
    "# Data Extraction Functions"
   ]
  },
  {
   "cell_type": "code",
   "execution_count": 9,
   "id": "b014b12e-a7d4-4d4e-95d2-75fe7ecab9c1",
   "metadata": {},
   "outputs": [],
   "source": [
    "def extract_match_info(rawdata):\n",
    "    if 'city' in rawdata['info']:\n",
    "        match_information['city'].append(rawdata['info']['city'])\n",
    "    else:\n",
    "        match_information['city'].append(None)\n",
    "    if 'event' in rawdata['info']:\n",
    "        match_information['event'].append(rawdata['info']['event']['name'])\n",
    "        if 'stage' in rawdata['info']['event']:\n",
    "            match_information['stage'].append(rawdata['info']['event']['stage'])\n",
    "        else:\n",
    "            match_information['stage'].append(None)\n",
    "    else:\n",
    "        match_information['event'].append(None)\n",
    "        match_information['stage'].append(None)\n",
    "    if 'player_of_match' in rawdata['info']:\n",
    "        match_information['player_of_match'].append(rawdata['info'][\"player_of_match\"])\n",
    "    else:\n",
    "        match_information['player_of_match'].append(None)\n",
    "    match_information['dates'].append(''.join(rawdata['info']['dates']))\n",
    "    match_information['match_type'].append(rawdata['info']['match_type'])\n",
    "    match_information['match_type_number'].append(rawdata['info']['match_type_number'])\n",
    "    if 'winner' in rawdata['info']['outcome']:\n",
    "        match_information['winner'].append(rawdata['info']['outcome']['winner'])\n",
    "        match_information['winner_by'].append(rawdata['info']['outcome']['by'])\n",
    "    else:\n",
    "        match_information['winner'].append('no result')\n",
    "        match_information['winner_by'].append('no result')\n",
    "    match_information['overs'].append(rawdata['info']['overs'])\n",
    "    match_information['season'].append(rawdata['info']['season'])\n",
    "    match_information['team_type'].append(rawdata['info']['team_type'])\n",
    "    match_information['team1'].append(rawdata['info']['teams'][0])\n",
    "    match_information['team2'].append(rawdata['info']['teams'][1])\n",
    "    match_information['toss_winner'].append(rawdata['info']['toss']['winner'])\n",
    "    match_information['toss_decision'].append(rawdata['info']['toss']['decision'])\n",
    "    match_information['venue'].append(rawdata['info']['venue'])"
   ]
  },
  {
   "cell_type": "code",
   "execution_count": 10,
   "id": "b2c7fa97-7d3b-4e29-b6a8-23ee31122fbb",
   "metadata": {},
   "outputs": [],
   "source": [
    "def players_info(rawdata):\n",
    "    for x in rawdata['info']['players']:\n",
    "        for y in rawdata['info']['players'][x]:\n",
    "            players_infomation['name'].append(y)\n",
    "            players_infomation['match_type_number'].append(rawdata['info']['match_type_number'])\n",
    "            players_infomation['match_type'].append(rawdata['info']['match_type'])\n",
    "            players_infomation['team'].append(x)\n",
    "            players_infomation['venue'].append(rawdata['info']['venue'])"
   ]
  },
  {
   "cell_type": "code",
   "execution_count": 11,
   "id": "26ddb02f-19e0-46e6-8fd1-6ac201496d8b",
   "metadata": {},
   "outputs": [],
   "source": [
    "def innings_data(raw_data):\n",
    "    innings_data = raw_data['innings']\n",
    "    rows = []\n",
    "    for inning in innings_data:\n",
    "        team = inning['team']\n",
    "        for over in inning['overs']:\n",
    "            over_number = over['over']\n",
    "            for delivery in over['deliveries']:\n",
    "                row = {\n",
    "                    'Team': team,\n",
    "                    'Over': over_number,\n",
    "                    'Batter': delivery['batter'],\n",
    "                    'Bowler': delivery['bowler'],\n",
    "                    'Non_Striker': delivery.get('non_striker', None),\n",
    "                    'Runs_Batter': delivery['runs']['batter'],\n",
    "                    'Runs_Extras': delivery['runs'].get('extras', 0),\n",
    "                    'Runs_Total': delivery['runs']['total']\n",
    "                }\n",
    "                if 'wickets' in delivery:\n",
    "                    row['Wickets']  = 1\n",
    "                    row['player_out'] = delivery['wickets'][0]['player_out']\n",
    "                    if 'fielders' in delivery['wickets'][0]:\n",
    "                        row['fielder_name'] = delivery['wickets'][0]['fielders'][0]['name']\n",
    "                    else:\n",
    "                         row['fielder_name'] = None\n",
    "                    row['kind']= delivery['wickets'][0]['kind']\n",
    "                else:\n",
    "                    row['Wickets'] = 0\n",
    "                    row['fielder_name'] = None\n",
    "                    row['kind'] = None\n",
    "                \n",
    "                rows.append(row)\n",
    "    return rows"
   ]
  },
  {
   "cell_type": "code",
   "execution_count": 12,
   "id": "a2b679b1-584a-4bf5-b8d9-595621298072",
   "metadata": {},
   "outputs": [],
   "source": [
    "def Finding_all_csv(csvs_list):\n",
    "    directory = r\"./matches_info_innings_data\"\n",
    "    if not os.path.exists(directory):\n",
    "        print(\"The specified directory does not exist.\")\n",
    "        return\n",
    "    for root, dirs, files in os.walk(directory):\n",
    "        for file in files:\n",
    "            if file == \"matches_information.csv\" or file == \"player_information.csv\":\n",
    "                continue\n",
    "            if file.endswith('.csv'):\n",
    "                csvs_list.append(file)\n",
    "    print(f\"Found {len(csvs_list)} CSV files:\")"
   ]
  },
  {
   "cell_type": "code",
   "execution_count": 13,
   "id": "5d21ebc8-39a2-4de5-95b5-6a1d1aa327b3",
   "metadata": {},
   "outputs": [],
   "source": [
    "def merging_all_csv(csvs_list):\n",
    "    firstFile = pd.read_csv(f'./matches_info_innings_data/{csvs_list[0]}')\n",
    "    firstFile['match_type_number'] = csvs_list[0].split('_')[1]\n",
    "    for file in csvs_list[1:]:\n",
    "        df = pd.read_csv(f'./matches_info_innings_data/{file}')\n",
    "        df['match_type_number'] = file.split('_')[1]\n",
    "        firstFile = pd.concat([firstFile, df])\n",
    "    return firstFile"
   ]
  },
  {
   "cell_type": "markdown",
   "id": "3287a47f-f758-4482-916b-9917e194bfd0",
   "metadata": {},
   "source": [
    "# Writing to CSV "
   ]
  },
  {
   "cell_type": "code",
   "execution_count": 15,
   "id": "2c167b72-b875-4d00-b4b5-1e5a4f466cff",
   "metadata": {},
   "outputs": [],
   "source": [
    "def writetocsv(data,filename):\n",
    "    df = pd.DataFrame(data)\n",
    "    df.to_csv(f'./matches_info_innings_data/{filename}.csv',index=False)"
   ]
  },
  {
   "cell_type": "markdown",
   "id": "a945f2f4-7161-424f-996a-ba5c84e11a81",
   "metadata": {},
   "source": [
    "# Main code"
   ]
  },
  {
   "cell_type": "code",
   "execution_count": 17,
   "id": "24465a2a-9278-406c-8d6e-09b49e2f6a33",
   "metadata": {
    "scrolled": true
   },
   "outputs": [],
   "source": [
    "for name in T20_FILES:\n",
    "    with open(f'D:/Shaaf Projects/Data sets/pakistan_male_json/{name}') as file:\n",
    "        # Data converting\n",
    "        rawdata = json.load(file)\n",
    "        # Extracting match info\n",
    "        extract_match_info(rawdata)\n",
    "        # Extracting player info\n",
    "        players_info(rawdata)\n",
    "        # Extracting Inning info\n",
    "        innings = innings_data(rawdata)\n",
    "        # Filename\n",
    "        innings_filename = f'{rawdata['info']['teams'][0]} vs {rawdata['info']['teams'][1]}_{str(rawdata['info']['match_type_number'])}'\n",
    "        writetocsv(match_information,'matches_information')\n",
    "        writetocsv(players_infomation,'player_information')\n",
    "        writetocsv(innings,innings_filename)"
   ]
  },
  {
   "cell_type": "code",
   "execution_count": 18,
   "id": "9acb2f0e-3c4a-41af-991f-6247979ffe6a",
   "metadata": {},
   "outputs": [],
   "source": [
    "csvs_list = []\n",
    "Finding_all_csv(csvs_list)\n",
    "DataSet = merging_all_csv(csvs_list)\n",
    "writetocsv(DataSet,'T20_Pakistan_matches_Dataset.csv')"
   ]
  }
 ],
 "metadata": {
  "kernelspec": {
   "display_name": "Python 3 (ipykernel)",
   "language": "python",
   "name": "python3"
  },
  "language_info": {
   "codemirror_mode": {
    "name": "ipython",
    "version": 3
   },
   "file_extension": ".py",
   "mimetype": "text/x-python",
   "name": "python",
   "nbconvert_exporter": "python",
   "pygments_lexer": "ipython3",
   "version": "3.12.7"
  }
 },
 "nbformat": 4,
 "nbformat_minor": 5
}
